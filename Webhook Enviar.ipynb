{
 "cells": [
  {
   "cell_type": "markdown",
   "metadata": {
    "application/vnd.databricks.v1+cell": {
     "cellMetadata": {},
     "inputWidgets": {},
     "nuid": "bc059cc4-7b1c-445b-9c0e-fb0df75f94be",
     "showTitle": false,
     "title": ""
    }
   },
   "source": [
    "#### Importando bibliotecas"
   ]
  },
  {
   "cell_type": "code",
   "execution_count": 0,
   "metadata": {
    "application/vnd.databricks.v1+cell": {
     "cellMetadata": {
      "byteLimit": 2048000,
      "rowLimit": 10000
     },
     "inputWidgets": {},
     "nuid": "6afe9935-d8c2-4833-ab3c-3f8120ca1924",
     "showTitle": false,
     "title": ""
    }
   },
   "outputs": [],
   "source": [
    "import json\n",
    "import requests\n",
    "import time as t\n",
    "from datetime import datetime, timedelta"
   ]
  },
  {
   "cell_type": "markdown",
   "metadata": {
    "application/vnd.databricks.v1+cell": {
     "cellMetadata": {},
     "inputWidgets": {},
     "nuid": "bbbecaa1-ae11-4281-892d-2fb915f34229",
     "showTitle": false,
     "title": ""
    }
   },
   "source": [
    "#### Funções"
   ]
  },
  {
   "cell_type": "code",
   "execution_count": 0,
   "metadata": {
    "application/vnd.databricks.v1+cell": {
     "cellMetadata": {
      "byteLimit": 2048000,
      "rowLimit": 10000
     },
     "inputWidgets": {},
     "nuid": "afbd3f2c-3ad6-40ea-bb22-124399c7ce6f",
     "showTitle": false,
     "title": ""
    }
   },
   "outputs": [],
   "source": [
    "# Função para chamar a contagem de \"tempo_proc\" MINUTOS.\n",
    "def timer(tempo_proc):\n",
    "    print(\"Inicializando contagem (mm : ss)\")\n",
    "\n",
    "    for i in range(0, tempo_proc):\n",
    "        for j in range(0, 60):\n",
    "            print(f'{i} : {j}')\n",
    "            t.sleep(1)\n",
    "            j += 1\n",
    "        i += 1\n",
    "\n",
    "    print(\"Finaliza contagem\")\n"
   ]
  },
  {
   "cell_type": "markdown",
   "metadata": {
    "application/vnd.databricks.v1+cell": {
     "cellMetadata": {},
     "inputWidgets": {},
     "nuid": "3f1ce1de-5af6-4da0-a572-4ea7a47091cc",
     "showTitle": false,
     "title": ""
    }
   },
   "source": [
    "#### Loop de tempo\n",
    "A cada tempo vai solicitar os dados da API no Flask desse Webhook"
   ]
  },
  {
   "cell_type": "code",
   "execution_count": 0,
   "metadata": {
    "application/vnd.databricks.v1+cell": {
     "cellMetadata": {
      "byteLimit": 2048000,
      "rowLimit": 10000
     },
     "inputWidgets": {},
     "nuid": "2d8d132f-ff4d-40a2-b770-ae15724c41f5",
     "showTitle": false,
     "title": ""
    }
   },
   "outputs": [],
   "source": [
    "tempo_proc = 60 # Minutos.\n",
    "\n",
    "while 1==1:\n",
    "    timer(tempo_proc)\n",
    "    current_datetime = (datetime.now() - timedelta(days = 1)).strftime('%Y-%m-%d') # Data atual.\n",
    "\n",
    "    # URL da API webhook\n",
    "    url = \"http://localhost:5000/webhook\"\n",
    "\n",
    "    # Dados a serem enviados na requisição\n",
    "    data = {'message': 'Processa o ELT, por favor \\n', 'current_datetime' : current_datetime}\n",
    "\n",
    "    # Enviando a requisição POST para a API\n",
    "    response = requests.post(url, json=data)\n",
    "\n",
    "    # Verificando o status da resposta\n",
    "    if response.status_code == 200:\n",
    "        print(\"Webhook enviado com sucesso.\") # Se o status é 200, a requisição foi bem-sucedida\n",
    "    else:\n",
    "        print(\"Erro ao enviar webhook.\") # Caso contrário, houve um erro na requisição\n",
    "\n",
    "    # Retorno da requisição POST\n",
    "    print('\\nRetorno da requisição: ', response.text)"
   ]
  },
  {
   "cell_type": "markdown",
   "metadata": {
    "application/vnd.databricks.v1+cell": {
     "cellMetadata": {},
     "inputWidgets": {},
     "nuid": "0c358f6a-ec3e-4ff5-86ad-732fddd4f313",
     "showTitle": false,
     "title": ""
    }
   },
   "source": [
    "#### Manual com loop para 30 últimos dias"
   ]
  },
  {
   "cell_type": "code",
   "execution_count": 0,
   "metadata": {
    "application/vnd.databricks.v1+cell": {
     "cellMetadata": {
      "byteLimit": 2048000,
      "rowLimit": 10000
     },
     "inputWidgets": {},
     "nuid": "2b478917-e4dd-42ba-be52-bb8c090456d0",
     "showTitle": false,
     "title": ""
    }
   },
   "outputs": [],
   "source": [
    "for i in range(1, 30):\n",
    "    # Sempre pelo menos days = 1\n",
    "    current_datetime = (datetime.now() - timedelta(days = i)).strftime('%Y-%m-%d')\n",
    "\n",
    "    # URL da API webhook\n",
    "    url = \"http://localhost:5000/webhook\"\n",
    "\n",
    "    # Dados a serem enviados na requisição\n",
    "    data = {'message': 'Processa o ELT, por favor \\n', 'current_datetime' : current_datetime}\n",
    "\n",
    "    # Enviando a requisição POST para a API\n",
    "    response = requests.post(url, json=data)\n",
    "\n",
    "    # Verificando o status da resposta\n",
    "    if response.status_code == 200:\n",
    "        print(\"Webhook enviado com sucesso.\") # Se o status é 200, a requisição foi bem-sucedida\n",
    "    else:\n",
    "        print(\"Erro ao enviar webhook.\") # Caso contrário, houve um erro na requisição\n",
    "\n",
    "    # Retorno da requisição POST\n",
    "    print('\\nRetorno da requisição: ', response.text)"
   ]
  }
 ],
 "metadata": {
  "application/vnd.databricks.v1+notebook": {
   "dashboards": [],
   "language": "python",
   "notebookMetadata": {
    "pythonIndentUnit": 4
   },
   "notebookName": "Webhook Enviar",
   "widgets": {}
  }
 },
 "nbformat": 4,
 "nbformat_minor": 0
}
