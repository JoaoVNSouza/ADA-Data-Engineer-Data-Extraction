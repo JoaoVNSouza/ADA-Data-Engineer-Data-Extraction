{
 "cells": [
  {
   "cell_type": "markdown",
   "metadata": {
    "application/vnd.databricks.v1+cell": {
     "cellMetadata": {
      "byteLimit": 2048000,
      "rowLimit": 10000
     },
     "inputWidgets": {},
     "nuid": "17f4111d-18b6-4a69-8d31-1205e9b6d1c3",
     "showTitle": false,
     "title": ""
    }
   },
   "source": [
    "#### Importando bibliotecas"
   ]
  },
  {
   "cell_type": "code",
   "execution_count": 0,
   "metadata": {
    "application/vnd.databricks.v1+cell": {
     "cellMetadata": {
      "byteLimit": 2048000,
      "rowLimit": 10000
     },
     "inputWidgets": {},
     "nuid": "382ea018-b7bc-4a47-990e-eedd26006018",
     "showTitle": false,
     "title": ""
    }
   },
   "outputs": [],
   "source": [
    "import pyspark.pandas as ps"
   ]
  },
  {
   "cell_type": "markdown",
   "metadata": {
    "application/vnd.databricks.v1+cell": {
     "cellMetadata": {
      "byteLimit": 2048000,
      "rowLimit": 10000
     },
     "inputWidgets": {},
     "nuid": "8e34a915-908f-49ad-be33-a47a1dc91654",
     "showTitle": false,
     "title": ""
    }
   },
   "source": [
    "#### Definições e Variáveis"
   ]
  },
  {
   "cell_type": "code",
   "execution_count": 0,
   "metadata": {
    "application/vnd.databricks.v1+cell": {
     "cellMetadata": {
      "byteLimit": 2048000,
      "rowLimit": 10000
     },
     "inputWidgets": {},
     "nuid": "fe83644a-3b67-42ee-b657-bd9011eb9311",
     "showTitle": false,
     "title": ""
    }
   },
   "outputs": [],
   "source": [
    "# Diretórios para cada camada da Arquitetura Midellion.\n",
    "dir_base = '/FileStore/tables/Projetos'                     # Diretório base.\n",
    "dir_landing_zone = f'{dir_base}/landing_zone'              # Dados brutos da API.\n",
    "dir_bronze = f'{dir_base}/bronze/dado_consolidado.parquet' # Dados consolidados.\n",
    "dir_silver = f'{dir_base}/silver/dado_limpo.parquet'       # Dado consolidado e limpos.\n",
    "dir_gold = f'{dir_base}/gold'                              # Dados transformados."
   ]
  },
  {
   "cell_type": "markdown",
   "metadata": {
    "application/vnd.databricks.v1+cell": {
     "cellMetadata": {
      "byteLimit": 2048000,
      "rowLimit": 10000
     },
     "inputWidgets": {},
     "nuid": "8acd16c0-e02c-40da-b11b-587f9368d2a1",
     "showTitle": false,
     "title": ""
    }
   },
   "source": [
    "#### Análises em df"
   ]
  },
  {
   "cell_type": "code",
   "execution_count": 0,
   "metadata": {
    "application/vnd.databricks.v1+cell": {
     "cellMetadata": {
      "byteLimit": 2048000,
      "rowLimit": 10000
     },
     "inputWidgets": {},
     "nuid": "de82fe93-cf05-4afc-8e29-fd784e497fcc",
     "showTitle": false,
     "title": ""
    }
   },
   "outputs": [],
   "source": [
    "# Armazena os resultados transformados.\n",
    "df_groupDate = ps.read_parquet(f'{dir_gold}/dado_transformado_by_data.parquet')\n",
    "df_groupSource = ps.read_parquet(f'{dir_gold}/dado_transformado_by_source.parquet')\n",
    "df_groupWordKey = ps.read_parquet(f'{dir_gold}/dado_transformado_by_key.parquet')"
   ]
  },
  {
   "cell_type": "code",
   "execution_count": 0,
   "metadata": {
    "application/vnd.databricks.v1+cell": {
     "cellMetadata": {
      "byteLimit": 2048000,
      "rowLimit": 10000
     },
     "inputWidgets": {},
     "nuid": "7a172715-e43f-4946-a225-3c527ebb6e84",
     "showTitle": false,
     "title": ""
    }
   },
   "outputs": [],
   "source": [
    "df_groupDate"
   ]
  },
  {
   "cell_type": "code",
   "execution_count": 0,
   "metadata": {
    "application/vnd.databricks.v1+cell": {
     "cellMetadata": {
      "byteLimit": 2048000,
      "rowLimit": 10000
     },
     "inputWidgets": {},
     "nuid": "901e6dc6-36b7-44e3-a7cd-97ecfdb54275",
     "showTitle": false,
     "title": ""
    }
   },
   "outputs": [],
   "source": [
    "df_groupSource"
   ]
  },
  {
   "cell_type": "code",
   "execution_count": 0,
   "metadata": {
    "application/vnd.databricks.v1+cell": {
     "cellMetadata": {
      "byteLimit": 2048000,
      "rowLimit": 10000
     },
     "inputWidgets": {},
     "nuid": "05d8f074-f19f-4526-96c4-fd09d776187d",
     "showTitle": false,
     "title": ""
    }
   },
   "outputs": [],
   "source": [
    "df_groupWordKey"
   ]
  }
 ],
 "metadata": {
  "application/vnd.databricks.v1+notebook": {
   "dashboards": [],
   "language": "python",
   "notebookMetadata": {
    "pythonIndentUnit": 4
   },
   "notebookName": "Análise dos resultados",
   "widgets": {}
  }
 },
 "nbformat": 4,
 "nbformat_minor": 0
}
