{
 "cells": [
  {
   "cell_type": "markdown",
   "metadata": {},
   "source": [
    "#### Importando bibliotecas"
   ]
  },
  {
   "cell_type": "code",
   "execution_count": 17,
   "metadata": {},
   "outputs": [],
   "source": [
    "#import pyspark.pandas as ps\n",
    "import pandas as pd\n",
    "import warnings\n",
    "import requests\n",
    "\n",
    "warnings.filterwarnings(\"ignore\") # Ignorar alertas de pandas."
   ]
  },
  {
   "cell_type": "markdown",
   "metadata": {},
   "source": [
    "#### Definições"
   ]
  },
  {
   "cell_type": "code",
   "execution_count": 18,
   "metadata": {},
   "outputs": [],
   "source": [
    "API_KEY='...'\n",
    "\n",
    "q_search = 'genome'\n",
    "data_ini = '2024-03-05'\n",
    "data_fim = '2024-03-25'\n",
    "by = 'popularity'\n",
    "\n",
    "url_base = f'https://newsapi.org/v2/everything?q={q_search}&from={data_ini}&to={data_fim}&sortBy={by}&apiKey={API_KEY}'"
   ]
  },
  {
   "cell_type": "markdown",
   "metadata": {},
   "source": [
    "#### Fazendo consultas"
   ]
  },
  {
   "cell_type": "code",
   "execution_count": 19,
   "metadata": {},
   "outputs": [
    {
     "name": "stdout",
     "output_type": "stream",
     "text": [
      "200\n"
     ]
    }
   ],
   "source": [
    "# Buscar dados da API.\n",
    "response = requests.get(url_base)\n",
    "\n",
    "print(response.status_code)\n",
    "if response.status_code == 200:\n",
    "    dados = response.json()"
   ]
  },
  {
   "cell_type": "code",
   "execution_count": 20,
   "metadata": {},
   "outputs": [
    {
     "name": "stdout",
     "output_type": "stream",
     "text": [
      "Linhas:  100\n"
     ]
    },
    {
     "data": {
      "text/html": [
       "<div>\n",
       "<style scoped>\n",
       "    .dataframe tbody tr th:only-of-type {\n",
       "        vertical-align: middle;\n",
       "    }\n",
       "\n",
       "    .dataframe tbody tr th {\n",
       "        vertical-align: top;\n",
       "    }\n",
       "\n",
       "    .dataframe thead th {\n",
       "        text-align: right;\n",
       "    }\n",
       "</style>\n",
       "<table border=\"1\" class=\"dataframe\">\n",
       "  <thead>\n",
       "    <tr style=\"text-align: right;\">\n",
       "      <th></th>\n",
       "      <th>source</th>\n",
       "      <th>author</th>\n",
       "      <th>title</th>\n",
       "      <th>description</th>\n",
       "      <th>url</th>\n",
       "      <th>urlToImage</th>\n",
       "      <th>publishedAt</th>\n",
       "      <th>content</th>\n",
       "    </tr>\n",
       "  </thead>\n",
       "  <tbody>\n",
       "    <tr>\n",
       "      <th>0</th>\n",
       "      <td>{'id': 'ars-technica', 'name': 'Ars Technica'}</td>\n",
       "      <td>John Timmer</td>\n",
       "      <td>How did evolution produce a firefly?</td>\n",
       "      <td>A new study looks at the development of a fire...</td>\n",
       "      <td>https://arstechnica.com/science/2024/03/how-di...</td>\n",
       "      <td>https://cdn.arstechnica.net/wp-content/uploads...</td>\n",
       "      <td>2024-03-05T19:32:01Z</td>\n",
       "      <td>0\\r\\nOn one level, we have fireflies figured o...</td>\n",
       "    </tr>\n",
       "    <tr>\n",
       "      <th>1</th>\n",
       "      <td>{'id': 'ars-technica', 'name': 'Ars Technica'}</td>\n",
       "      <td>Jennifer Ouellette</td>\n",
       "      <td>Blue cheese shows off new colors, but the tast...</td>\n",
       "      <td>Future varieties could be yellow-green, reddis...</td>\n",
       "      <td>https://arstechnica.com/science/2024/03/blue-c...</td>\n",
       "      <td>https://cdn.arstechnica.net/wp-content/uploads...</td>\n",
       "      <td>2024-03-13T18:54:54Z</td>\n",
       "      <td>Enlarge/ Scientists at the University of Notti...</td>\n",
       "    </tr>\n",
       "    <tr>\n",
       "      <th>2</th>\n",
       "      <td>{'id': None, 'name': 'CNET'}</td>\n",
       "      <td>Lara Vukelich</td>\n",
       "      <td>Sleep Deprivation Is Slowing Your Metabolism. ...</td>\n",
       "      <td>You're not dreaming -- sleep loss can affect y...</td>\n",
       "      <td>https://www.cnet.com/health/sleep/sleep-depriv...</td>\n",
       "      <td>https://www.cnet.com/a/img/resize/9310571829e9...</td>\n",
       "      <td>2024-03-22T14:00:04Z</td>\n",
       "      <td>If you're reaching for snacks more than usual ...</td>\n",
       "    </tr>\n",
       "    <tr>\n",
       "      <th>3</th>\n",
       "      <td>{'id': None, 'name': 'NPR'}</td>\n",
       "      <td>Rob Stein</td>\n",
       "      <td>'All of Us' research project diversifies the s...</td>\n",
       "      <td>The National Institutes of Health initiative t...</td>\n",
       "      <td>https://www.npr.org/sections/health-shots/2024...</td>\n",
       "      <td>https://media.npr.org/assets/img/2024/03/07/51...</td>\n",
       "      <td>2024-03-07T19:51:11Z</td>\n",
       "      <td>Results from a DNA sequencer used in the Human...</td>\n",
       "    </tr>\n",
       "    <tr>\n",
       "      <th>4</th>\n",
       "      <td>{'id': None, 'name': 'The Atlantic'}</td>\n",
       "      <td>Sarah Zhang</td>\n",
       "      <td>DNA Tests Are Uncovering the True Prevalence o...</td>\n",
       "      <td>People are discovering the truth about their b...</td>\n",
       "      <td>https://www.theatlantic.com/health/archive/202...</td>\n",
       "      <td>None</td>\n",
       "      <td>2024-03-18T15:52:55Z</td>\n",
       "      <td>When Steve Edsel was a boy, his adoptive paren...</td>\n",
       "    </tr>\n",
       "  </tbody>\n",
       "</table>\n",
       "</div>"
      ],
      "text/plain": [
       "                                           source              author  \\\n",
       "0  {'id': 'ars-technica', 'name': 'Ars Technica'}         John Timmer   \n",
       "1  {'id': 'ars-technica', 'name': 'Ars Technica'}  Jennifer Ouellette   \n",
       "2                    {'id': None, 'name': 'CNET'}       Lara Vukelich   \n",
       "3                     {'id': None, 'name': 'NPR'}           Rob Stein   \n",
       "4            {'id': None, 'name': 'The Atlantic'}         Sarah Zhang   \n",
       "\n",
       "                                               title  \\\n",
       "0               How did evolution produce a firefly?   \n",
       "1  Blue cheese shows off new colors, but the tast...   \n",
       "2  Sleep Deprivation Is Slowing Your Metabolism. ...   \n",
       "3  'All of Us' research project diversifies the s...   \n",
       "4  DNA Tests Are Uncovering the True Prevalence o...   \n",
       "\n",
       "                                         description  \\\n",
       "0  A new study looks at the development of a fire...   \n",
       "1  Future varieties could be yellow-green, reddis...   \n",
       "2  You're not dreaming -- sleep loss can affect y...   \n",
       "3  The National Institutes of Health initiative t...   \n",
       "4  People are discovering the truth about their b...   \n",
       "\n",
       "                                                 url  \\\n",
       "0  https://arstechnica.com/science/2024/03/how-di...   \n",
       "1  https://arstechnica.com/science/2024/03/blue-c...   \n",
       "2  https://www.cnet.com/health/sleep/sleep-depriv...   \n",
       "3  https://www.npr.org/sections/health-shots/2024...   \n",
       "4  https://www.theatlantic.com/health/archive/202...   \n",
       "\n",
       "                                          urlToImage           publishedAt  \\\n",
       "0  https://cdn.arstechnica.net/wp-content/uploads...  2024-03-05T19:32:01Z   \n",
       "1  https://cdn.arstechnica.net/wp-content/uploads...  2024-03-13T18:54:54Z   \n",
       "2  https://www.cnet.com/a/img/resize/9310571829e9...  2024-03-22T14:00:04Z   \n",
       "3  https://media.npr.org/assets/img/2024/03/07/51...  2024-03-07T19:51:11Z   \n",
       "4                                               None  2024-03-18T15:52:55Z   \n",
       "\n",
       "                                             content  \n",
       "0  0\\r\\nOn one level, we have fireflies figured o...  \n",
       "1  Enlarge/ Scientists at the University of Notti...  \n",
       "2  If you're reaching for snacks more than usual ...  \n",
       "3  Results from a DNA sequencer used in the Human...  \n",
       "4  When Steve Edsel was a boy, his adoptive paren...  "
      ]
     },
     "metadata": {},
     "output_type": "display_data"
    }
   ],
   "source": [
    "print('Linhas: ', len(dados['articles']))\n",
    "\n",
    "# Convertendo para um DataFrame\n",
    "df = pd.DataFrame(dados['articles'])\n",
    "display(df.head())"
   ]
  }
 ],
 "metadata": {
  "kernelspec": {
   "display_name": ".venv",
   "language": "python",
   "name": "python3"
  },
  "language_info": {
   "codemirror_mode": {
    "name": "ipython",
    "version": 3
   },
   "file_extension": ".py",
   "mimetype": "text/x-python",
   "name": "python",
   "nbconvert_exporter": "python",
   "pygments_lexer": "ipython3",
   "version": "3.12.2"
  }
 },
 "nbformat": 4,
 "nbformat_minor": 2
}
